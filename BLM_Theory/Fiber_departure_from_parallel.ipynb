{
 "cells": [
  {
   "cell_type": "markdown",
   "id": "aed09c3c",
   "metadata": {},
   "source": [
    "# Fiber departure from parallel\n",
    "\n",
    "Fiber is not always parallel to the beamline. Approximate calculation of how much this would affect the gradient. Modelling the fiber as triangles that are ~3m long and 10cm up and down.  "
   ]
  },
  {
   "cell_type": "code",
   "execution_count": 1,
   "id": "ebdca8c9",
   "metadata": {},
   "outputs": [],
   "source": [
    "import numpy as np"
   ]
  },
  {
   "cell_type": "code",
   "execution_count": 39,
   "id": "bec33c4d",
   "metadata": {},
   "outputs": [],
   "source": [
    "vertical_displacement = 0.2  # in meters, how much fiber dips up and down\n",
    "horizontal_distance_section = 2  # in meters, distance between two sections of fiber\n",
    "total_beamline_length = 36.38  # total fiber length in meters, approximately 36.38m for the whole beamline\n",
    "number_fiber_sections = total_beamline_length/horizontal_distance_section  # number of sections of fiber along the whole beamline approximately"
   ]
  },
  {
   "cell_type": "code",
   "execution_count": 40,
   "id": "097fe1b8",
   "metadata": {},
   "outputs": [
    {
     "data": {
      "text/plain": [
       "np.float64(0.181447509637799)"
      ]
     },
     "execution_count": 40,
     "metadata": {},
     "output_type": "execute_result"
    }
   ],
   "source": [
    "length_fiber_section = np.sqrt(vertical_displacement**2 + horizontal_distance_section**2) # length of each fiber section in meters, diagonal\n",
    "total_fiber_length = number_fiber_sections * length_fiber_section  # total fiber length in meters\n",
    "excess_fiber_length = total_fiber_length - total_beamline_length  # excess fiber length in meters, how much fiber is not parallel to the beamline\n",
    "excess_fiber_length"
   ]
  },
  {
   "cell_type": "code",
   "execution_count": 41,
   "id": "eb94140c",
   "metadata": {},
   "outputs": [],
   "source": [
    "gradient = total_fiber_length / (horizontal_distance_section * number_fiber_sections)"
   ]
  },
  {
   "cell_type": "code",
   "execution_count": 42,
   "id": "305138b4",
   "metadata": {},
   "outputs": [
    {
     "data": {
      "text/plain": [
       "np.float64(1.004987562112089)"
      ]
     },
     "execution_count": 42,
     "metadata": {},
     "output_type": "execute_result"
    }
   ],
   "source": [
    "gradient"
   ]
  },
  {
   "cell_type": "code",
   "execution_count": null,
   "id": "f616ca5d",
   "metadata": {},
   "outputs": [],
   "source": []
  },
  {
   "cell_type": "code",
   "execution_count": null,
   "id": "d30ce132",
   "metadata": {},
   "outputs": [],
   "source": []
  }
 ],
 "metadata": {
  "kernelspec": {
   "display_name": ".venv (3.13.5)",
   "language": "python",
   "name": "python3"
  },
  "language_info": {
   "codemirror_mode": {
    "name": "ipython",
    "version": 3
   },
   "file_extension": ".py",
   "mimetype": "text/x-python",
   "name": "python",
   "nbconvert_exporter": "python",
   "pygments_lexer": "ipython3",
   "version": "3.13.5"
  }
 },
 "nbformat": 4,
 "nbformat_minor": 5
}
